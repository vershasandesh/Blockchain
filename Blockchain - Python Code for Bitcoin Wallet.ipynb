{
 "cells": [
  {
   "cell_type": "code",
   "execution_count": 1,
   "id": "1e45bcce",
   "metadata": {},
   "outputs": [
    {
     "name": "stdout",
     "output_type": "stream",
     "text": [
      "Requirement already satisfied: bitcoin in c:\\users\\sande\\anaconda3\\lib\\site-packages (1.1.42)\n",
      "Note: you may need to restart the kernel to use updated packages.\n"
     ]
    }
   ],
   "source": [
    "pip install bitcoin"
   ]
  },
  {
   "cell_type": "code",
   "execution_count": 12,
   "id": "6c4dc38c",
   "metadata": {},
   "outputs": [],
   "source": [
    "from bitcoin import *"
   ]
  },
  {
   "cell_type": "code",
   "execution_count": 3,
   "id": "bb43635d",
   "metadata": {},
   "outputs": [],
   "source": [
    "# Define the stakeholders and their respective ownership percentages\n",
    "stakeholders = {\n",
    "    \"CEO\": 0.4,\n",
    "    \"Alice\": 0.2,\n",
    "    \"Bob\": 0.2,\n",
    "    \"Coo\": 0.2\n",
    "}\n"
   ]
  },
  {
   "cell_type": "code",
   "execution_count": 4,
   "id": "9673935b",
   "metadata": {},
   "outputs": [],
   "source": [
    "# Define the required number of signatures for authorizing transactions\n",
    "required_signatures = 3  # Adjust this value as needed\n"
   ]
  },
  {
   "cell_type": "code",
   "execution_count": 5,
   "id": "5c4d776f",
   "metadata": {},
   "outputs": [],
   "source": [
    "# Generate private keys for each stakeholder\n",
    "ceo_private_key = random_key()\n",
    "alice_private_key = random_key()\n",
    "bob_private_key = random_key()\n",
    "coo_private_key = random_key()"
   ]
  },
  {
   "cell_type": "code",
   "execution_count": 6,
   "id": "c70bf5e6",
   "metadata": {},
   "outputs": [],
   "source": [
    "# Generate public keys from private keys\n",
    "ceo_public_key = privtopub(ceo_private_key)\n",
    "alice_public_key = privtopub(alice_private_key)\n",
    "bob_public_key = privtopub(bob_private_key)\n",
    "coo_public_key = privtopub(coo_private_key)"
   ]
  },
  {
   "cell_type": "code",
   "execution_count": 7,
   "id": "e5906841",
   "metadata": {},
   "outputs": [],
   "source": [
    "# Generate Bitcoin addresses from public keys\n",
    "ceo_address = pubtoaddr(ceo_public_key)\n",
    "alice_address = pubtoaddr(alice_public_key)\n",
    "bob_address = pubtoaddr(bob_public_key)\n",
    "coo_address = pubtoaddr(coo_public_key)"
   ]
  },
  {
   "cell_type": "code",
   "execution_count": 24,
   "id": "7596cefc",
   "metadata": {},
   "outputs": [],
   "source": [
    "# Define MultisigWallet class\n",
    "class MultisigWallet:\n",
    "    def __init__(self, stakeholder_keys, required_signatures, num_stakeholders):\n",
    "        self.stakeholder_keys = stakeholder_keys\n",
    "        self.required_signatures = required_signatures\n",
    "        self.num_stakeholders = num_stakeholders\n",
    "        self.wallet_address = scriptaddr(mk_multisig_script(*stakeholder_keys, required_signatures, num_stakeholders))"
   ]
  },
  {
   "cell_type": "code",
   "execution_count": 35,
   "id": "4997f6d6",
   "metadata": {},
   "outputs": [],
   "source": [
    "# Create an instance of the MultisigWallet class\n",
    "multisig_wallet = MultisigWallet([ceo_private_key, alice_private_key, bob_private_key, coo_private_key], required_signatures, len(stakeholders))\n"
   ]
  },
  {
   "cell_type": "code",
   "execution_count": 27,
   "id": "bdd273de",
   "metadata": {},
   "outputs": [
    {
     "name": "stdout",
     "output_type": "stream",
     "text": [
      "Multisignature Wallet Address: 3PEKe9zLJUqfUrE5BNfUQAmMiEJ1vSXAzZ\n",
      "Required Signatures: 3\n",
      "\n"
     ]
    }
   ],
   "source": [
    "# Print wallet information\n",
    "print(\"Multisignature Wallet Address:\", multisig_wallet.wallet_address)\n",
    "print(\"Required Signatures:\", multisig_wallet.required_signatures)\n",
    "\n",
    "print()\n"
   ]
  },
  {
   "cell_type": "code",
   "execution_count": 31,
   "id": "004e1816",
   "metadata": {},
   "outputs": [
    {
     "name": "stderr",
     "output_type": "stream",
     "text": [
      "Fetching more transactions... 50\n",
      "Fetching more transactions... 100\n"
     ]
    },
    {
     "name": "stdout",
     "output_type": "stream",
     "text": [
      "[{'address': 'bc1pjp6g8xeyqvzsj4yue585ca0rglc25jwehe9l9lgelpquqfle4gjqlszztp', 'value': 3010, 'output': '01b60141e95cd7a9e3715e59e5695784d65dba2371af35f60d95ea8bd9b336be:0', 'block_height': 843216, 'spend': 'b8c18698ceb1ca4192f5f6c081dc99b7698ccab0487640b33fa3a0fbe1e53bb4:0'}, {'address': 'bc1pjp6g8xeyqvzsj4yue585ca0rglc25jwehe9l9lgelpquqfle4gjqlszztp', 'value': 3010, 'output': 'b638c59494f3b5f0ccb1a2ff734b04b2c7031274205ad1ecff626d9c65225883:0', 'block_height': 843216, 'spend': '331cabddb88ec29a284bbe93f7c3b4a670d3705651fba6b989900dd52bc49be4:0'}, {'address': 'bc1pjp6g8xeyqvzsj4yue585ca0rglc25jwehe9l9lgelpquqfle4gjqlszztp', 'value': 3010, 'output': 'aee36d49cb351adfe49184c421050ca32bb3172be0b8e65b78aded3fcf42ad40:0', 'block_height': 843216, 'spend': '62d28f79c583e9612d7ecaa38bac8148f1e1748a3ef2066d02404d02829389e5:0'}, {'address': 'bc1pjp6g8xeyqvzsj4yue585ca0rglc25jwehe9l9lgelpquqfle4gjqlszztp', 'value': 3010, 'output': 'ad4b132546f6959195ae57e1c9b3b579884d0373d6709fabddc2625d3847104d:0', 'block_height': 843216, 'spend': '71c052702f1a23e9b2db10e112b95498e3040fe9df1d743221b5113c90c9c330:0'}, {'address': 'bc1pjp6g8xeyqvzsj4yue585ca0rglc25jwehe9l9lgelpquqfle4gjqlszztp', 'value': 3010, 'output': '4701194b0be5e4c7e9115d6240bd2e28541bc536533697f7b2683e72aa7a190b:0', 'block_height': 843216, 'spend': 'db980af94281f0dcda4aa328caec391ec0fd0fcf9cc2f05f5d61ce386e408c00:0'}, {'address': 'bc1pjp6g8xeyqvzsj4yue585ca0rglc25jwehe9l9lgelpquqfle4gjqlszztp', 'value': 3010, 'output': '31d911bc0670eaf86ea74700a4311f3919c14cabde149f39b7b42b186988743e:0', 'block_height': 843147, 'spend': 'cc1e7c6beaa8b6ccaf76e4e2115038f6afcc4a93c08c61979873d3fa3810d7ba:0'}, {'address': 'bc1pjp6g8xeyqvzsj4yue585ca0rglc25jwehe9l9lgelpquqfle4gjqlszztp', 'value': 2856, 'output': 'a4730abd372b609a05577f520366a34186e7781599c9feed0ee651bbc2d640b1:0', 'block_height': 843110, 'spend': '524bcf80fb9ecd6891861bbd226511f8edd6a4f39d41a0456cd47c805f79de9e:0'}, {'address': 'bc1pjp6g8xeyqvzsj4yue585ca0rglc25jwehe9l9lgelpquqfle4gjqlszztp', 'value': 2856, 'output': 'd066e1feb45a0030f75fc9e8215521bc094c7248a83d137f03b340d91973923e:0', 'block_height': 843110, 'spend': 'e0a3f14dffae6fba43fdf6406b6da9704d9725889d3d6c9191a7b7910d6f19cb:0'}, {'address': 'bc1pjp6g8xeyqvzsj4yue585ca0rglc25jwehe9l9lgelpquqfle4gjqlszztp', 'value': 2856, 'output': '08d8f8c416f1d09d9bb44757ef1aa89f38c7cb061359045325094132d07fda1e:0', 'block_height': 843110, 'spend': '8275fe8a5d57d88f7dfc00379d3466131d68874ed87deba1e495ecc962ee6183:0'}, {'address': 'bc1pjp6g8xeyqvzsj4yue585ca0rglc25jwehe9l9lgelpquqfle4gjqlszztp', 'value': 2856, 'output': '250e49b02277f078bd13acf510d3dc97c40487994d0f5249a4dc7c5dc7e5e03f:0', 'block_height': 843099, 'spend': 'e7e637186f53a720ff91a80ca724c68cc88f90d7214794688033e4514070df73:0'}, {'address': 'bc1pjp6g8xeyqvzsj4yue585ca0rglc25jwehe9l9lgelpquqfle4gjqlszztp', 'value': 2856, 'output': 'dc6b5339988fa48e6c83e8396ca99e348ecffc20fc3f769c472931e04da4debb:0', 'block_height': 843099, 'spend': 'bef0465a5e82c9763b410bf85aa658a5a06e7e3aec5a02cc4151bbc95321b03e:0'}, {'address': 'bc1pjp6g8xeyqvzsj4yue585ca0rglc25jwehe9l9lgelpquqfle4gjqlszztp', 'value': 2856, 'output': 'd72acbfd2e410537c831590820a7481d37e8853e3cfcc0d53af929609561c4e4:0', 'block_height': 843099, 'spend': '5c7fe5c7298e41e49bfbfa7f3532144790fa3e3043dead5994c7a8ce2d5f931c:0'}, {'address': 'bc1pjp6g8xeyqvzsj4yue585ca0rglc25jwehe9l9lgelpquqfle4gjqlszztp', 'value': 3010, 'output': '8ac7be518276b2fc685efd520c97f1915bc78daab830d67789532318eb4d1809:0', 'block_height': 843099, 'spend': '4974d7ae252fabfb4212cc2f4631c6a0c8121a7f1589e9e1b318588c296028f4:0'}, {'address': 'bc1pjp6g8xeyqvzsj4yue585ca0rglc25jwehe9l9lgelpquqfle4gjqlszztp', 'value': 2856, 'output': '2b8a58e10adc2144d8f1feb09200b1beee97ed4a5c805faabb910960d3cb7abd:0', 'block_height': 843060, 'spend': '88f7b2db06b320be871c8ac1c75171ad5edaaf4a9dbc5ae58ce6811a26e4ad41:0'}, {'address': 'bc1pjp6g8xeyqvzsj4yue585ca0rglc25jwehe9l9lgelpquqfle4gjqlszztp', 'value': 2856, 'output': '68f10bcec1898406a2e6dd592246ded7bb7ead3e69cc7a9724c6388bad492e63:0', 'block_height': 843060, 'spend': '62586e39753e18bbd098b318cb6c9a3b7df7817950dcbaa8386f83648b92412a:0'}, {'address': 'bc1pjp6g8xeyqvzsj4yue585ca0rglc25jwehe9l9lgelpquqfle4gjqlszztp', 'value': 3010, 'output': 'cdf2939dd7d5c22015e69ac80d8e350b7382e40c68fbc62a9e85554f1c585252:0', 'block_height': 843042, 'spend': 'feb0958983dad9a91d58afa4a80f5f52b93c7f4bac38aa7939f3a3845f348756:0'}, {'address': 'bc1pjp6g8xeyqvzsj4yue585ca0rglc25jwehe9l9lgelpquqfle4gjqlszztp', 'value': 3010, 'output': '3408f75d58f6a0720c27a47a166334438a4a5330cfc4923c27c31dad8da08566:0', 'block_height': 843042, 'spend': 'be4271d68b941dd2df1e34781bcf93f8b73e3c893f346d35eed1e1ed8253d651:0'}, {'address': 'bc1pjp6g8xeyqvzsj4yue585ca0rglc25jwehe9l9lgelpquqfle4gjqlszztp', 'value': 3164, 'output': '6f0b3bb60d7d2f3a3326035aa3e1c92e1de6209df0d2c46cc50acfc16a337bb4:0', 'block_height': 843041, 'spend': 'da65950752a42902725b869c265f0566b514708918481f2e21cbab92223d2ecd:0'}, {'address': 'bc1pjp6g8xeyqvzsj4yue585ca0rglc25jwehe9l9lgelpquqfle4gjqlszztp', 'value': 3164, 'output': '560b52f62a33caf69dad63ef6bf966153a9a9f76990389c509d77cc0efb2c3d5:0', 'block_height': 843041, 'spend': '7539d1d79ec86d3f6177f82d6ec7dc00d3f5ff464927326911d8b339425d5b74:0'}, {'address': 'bc1pjp6g8xeyqvzsj4yue585ca0rglc25jwehe9l9lgelpquqfle4gjqlszztp', 'value': 3010, 'output': 'f7132bf905f563bf4d298e509c4f2171a6761a0d2df408790b69e85d61cd0816:0', 'block_height': 843032, 'spend': '4f453af95efbaa8f78d1ced5e2a8eee30ff1e82c8963a3881090b34260f0da32:0'}, {'address': 'bc1pjp6g8xeyqvzsj4yue585ca0rglc25jwehe9l9lgelpquqfle4gjqlszztp', 'value': 5628, 'output': '90b6ca5abc221acfdb36ca5e25691dc6b83dfc9d2b3cbc7b55791799c8da08f4:0', 'block_height': 842989, 'spend': 'b746a26a8d973bd0c48a0e486dd3d7de8df7e70c22792570f88d3e4dc44b47e3:0'}, {'address': 'bc1pjp6g8xeyqvzsj4yue585ca0rglc25jwehe9l9lgelpquqfle4gjqlszztp', 'value': 5628, 'output': '6236bbd8ef8376abd68790802794bb157a801412833607834ee445d90e7c2137:0', 'block_height': 842989, 'spend': 'fd3b3ea81a155eaa59855f4888416e2ec6e6d0b712ce38ef4f6b58ad25f47fac:0'}, {'address': 'bc1pjp6g8xeyqvzsj4yue585ca0rglc25jwehe9l9lgelpquqfle4gjqlszztp', 'value': 5474, 'output': '719793acd4684c614a07bc9a16057f1b73ea051df399a56a6c7f1dc2147923c3:0', 'block_height': 842988, 'spend': '04d36b01b82157056a78b813092c6a6fb153bd6bcaf4ffcc1f77d6b1b574babb:0'}, {'address': 'bc1pjp6g8xeyqvzsj4yue585ca0rglc25jwehe9l9lgelpquqfle4gjqlszztp', 'value': 5474, 'output': 'df551dbf7285f3e576435526867194319147796f1fb012987695d699dcb8dd73:0', 'block_height': 842988, 'spend': 'bc98be383cb479fb9c2dd23a093c80e26842d021d2805acdee7faa2a77f61b7f:0'}, {'address': 'bc1pjp6g8xeyqvzsj4yue585ca0rglc25jwehe9l9lgelpquqfle4gjqlszztp', 'value': 5474, 'output': 'cefa32e6a84298def6ffb596acd1708b6c907c04c40d444ff74adf681bdda318:0', 'block_height': 842988, 'spend': '6211492f273be7a75d12cf282a59e50b9ced3211739bc3bb6ef3ca3df647290c:0'}, {'address': 'bc1pjp6g8xeyqvzsj4yue585ca0rglc25jwehe9l9lgelpquqfle4gjqlszztp', 'value': 5628, 'output': 'db1e4bed89a9efa6178cd657c4156acecbfae1e1fdfcd1f553d02de834f4e6f8:0', 'block_height': 842960, 'spend': 'd3fe5a5f2c34021b98f24b09dd521800b568c0db9ec1e6096acc955ae75b9680:0'}, {'address': 'bc1pjp6g8xeyqvzsj4yue585ca0rglc25jwehe9l9lgelpquqfle4gjqlszztp', 'value': 5628, 'output': 'ba285e599189d327764031278daebba4b4380143e6bfefbf7f14c0e52d7717dc:0', 'block_height': 842960, 'spend': 'ba20a57a2089e1a4b8072e667d6305424c4ee8e13067a17f2d0055dd8bc54e43:0'}, {'address': 'bc1pjp6g8xeyqvzsj4yue585ca0rglc25jwehe9l9lgelpquqfle4gjqlszztp', 'value': 5628, 'output': 'a4462f2df84913117679875b5f9dc58832a5efd82b483e73333b3a6f0b995b8b:0', 'block_height': 842960, 'spend': 'e381cfabd594638c40003f060e943f1b09b2a1d40e9610ffec6b8efea7b6e901:0'}, {'address': 'bc1pjp6g8xeyqvzsj4yue585ca0rglc25jwehe9l9lgelpquqfle4gjqlszztp', 'value': 5936, 'output': '8b7fea93ca30cb21652b7beed9b2fbb202a24360bc96c497355913d22f5031bd:0', 'block_height': 842960, 'spend': '7ed51208a965589635e3ed8bd6b324895047d9796897eba94f46fa57ccb487e0:0'}, {'address': 'bc1pjp6g8xeyqvzsj4yue585ca0rglc25jwehe9l9lgelpquqfle4gjqlszztp', 'value': 5628, 'output': '95aceb1c852520fb5455e9adac3ee937e5b74bf8a311d96d0dacd3f6fcc0149d:0', 'block_height': 842960, 'spend': '0a7127a07ec9d140813c70be735e6abb85ccd5d8e87491844d9183ab3df3db97:0'}, {'address': 'bc1pjp6g8xeyqvzsj4yue585ca0rglc25jwehe9l9lgelpquqfle4gjqlszztp', 'value': 5628, 'output': '164502d69022998cfb5487b6b93decc30f9d55b69abbba81868a5413e6982d7c:0', 'block_height': 842960, 'spend': '57dde7c9f317e550b8d8179ba4e2ed6bfc90412d05f813cbc291d4b49a1a02da:0'}, {'address': 'bc1pjp6g8xeyqvzsj4yue585ca0rglc25jwehe9l9lgelpquqfle4gjqlszztp', 'value': 5936, 'output': '2caa6c83b69a43430b9f31e7b20ed49490f2e0e7e00caf71ff076d8751dd7b11:0', 'block_height': 842960, 'spend': '72f3a5da643b4af9f184179ac15dedccbeaa745db81417af976b2359602b5196:0'}, {'address': 'bc1pjp6g8xeyqvzsj4yue585ca0rglc25jwehe9l9lgelpquqfle4gjqlszztp', 'value': 5936, 'output': 'cb4e4b4a0b7787171ac568db5b652825b2ec70c083404db4775291559168ad68:0', 'block_height': 842960, 'spend': 'f04e5952b1f244acae160e530561de0cd2faa9e109cd4ea63b8726396d2b3c07:0'}, {'address': 'bc1pjp6g8xeyqvzsj4yue585ca0rglc25jwehe9l9lgelpquqfle4gjqlszztp', 'value': 5936, 'output': '8fb5e0e396e9a69781820e887499ba9a8774f3a00a7e6ccf98e3efaebe306a68:0', 'block_height': 842960, 'spend': 'cd96fa0c2662952f1649d80b0b66a18d95b98bdc4c9594d318d164b27550ea00:0'}, {'address': 'bc1pjp6g8xeyqvzsj4yue585ca0rglc25jwehe9l9lgelpquqfle4gjqlszztp', 'value': 6244, 'output': 'a908ee52cb8aa5a5c99ec1203d6d096f7e6bb65fe63300ce503e563a5d5adacc:0', 'block_height': 842960, 'spend': '319cfb64d530430a1ff2b5056ed3e7d2fe8f1195ccc78fba7963eecd5d0d4d8d:0'}, {'address': 'bc1pjp6g8xeyqvzsj4yue585ca0rglc25jwehe9l9lgelpquqfle4gjqlszztp', 'value': 5166, 'output': '0d9cff1dacc2443b8af99b619246d2a030015eda57d453fd79169c43a9e605a6:0', 'block_height': 842945, 'spend': '3cfa5dab68c3f519f33d121e7b0cd0cbdb4df0ca87df6a3d92931dfe2dc6d5fc:0'}, {'address': 'bc1pjp6g8xeyqvzsj4yue585ca0rglc25jwehe9l9lgelpquqfle4gjqlszztp', 'value': 5166, 'output': 'cb9b9d6f5f1ff76c181656d9d0f30b2cae3cc1c68be5ec6973e39e1e938ae24d:0', 'block_height': 842945, 'spend': 'ea17d6c7f9f3050c155703b16c1e78296dc0f92a555b710311a7ea36da51a4c1:0'}, {'address': 'bc1pjp6g8xeyqvzsj4yue585ca0rglc25jwehe9l9lgelpquqfle4gjqlszztp', 'value': 5166, 'output': '839312575764e9c232d4dc9cf2ca20eb5243a4b5dd6b0e8f1944e864645a7d6e:0', 'block_height': 842945, 'spend': '6434aad52474b47bb5addabeb33be6d9144db1b9aa3f65ab0dc08a37439f723c:0'}, {'address': 'bc1pjp6g8xeyqvzsj4yue585ca0rglc25jwehe9l9lgelpquqfle4gjqlszztp', 'value': 5166, 'output': 'd5630d624e0aae229ae7720debaf90c129d6654bcb446a544cabe1eadc8d0538:0', 'block_height': 842945, 'spend': 'eb836ca61833483401d3466287106c1159189eea53567ae20e9cd7a0d67c2730:0'}, {'address': 'bc1pjp6g8xeyqvzsj4yue585ca0rglc25jwehe9l9lgelpquqfle4gjqlszztp', 'value': 5012, 'output': 'c2158444438f615758bb29027142ec269af7ca2d073c4eb6e56b1b520a49684f:0', 'block_height': 842943, 'spend': '7e1c3a54896cd570949cfbc7fe3cc66d842f939db2ada471f1de3583c250812a:0'}, {'address': 'bc1pjp6g8xeyqvzsj4yue585ca0rglc25jwehe9l9lgelpquqfle4gjqlszztp', 'value': 5166, 'output': 'b9cb44fe56e941c91ac6ac03cef02376db11853f995369869cd7c4afa79710e5:0', 'block_height': 842943, 'spend': 'be22a7809ca7ad9ee45c152dd8f4aef828661ccf88f5b0a6b1658ee3c7251291:0'}, {'address': 'bc1pjp6g8xeyqvzsj4yue585ca0rglc25jwehe9l9lgelpquqfle4gjqlszztp', 'value': 5166, 'output': '72b55d1d83e2008b7ad748b84e750ff37824b4fc8ca288d9d13daa3b20532040:0', 'block_height': 842943, 'spend': 'd92f95014f4416bc69d15e0f3ef44b15bde665e4d97db3f0f3082cc9c199176b:0'}, {'address': 'bc1pjp6g8xeyqvzsj4yue585ca0rglc25jwehe9l9lgelpquqfle4gjqlszztp', 'value': 5166, 'output': 'd893b1ba6b0a63efdfe8efc7d99f94f5bfadfc5498e5fbc3a57a10dc5e1258ab:0', 'block_height': 842943, 'spend': 'e23edee30661d9657301e4ef1a6a56fc25cb0e15d7f4f751176104385fb24f35:0'}, {'address': 'bc1pjp6g8xeyqvzsj4yue585ca0rglc25jwehe9l9lgelpquqfle4gjqlszztp', 'value': 3626, 'output': '379351f47df3adfd13fdbbe05b0c0a708e3b4da9d57e6e708134b03f218feb4b:0', 'block_height': 842654, 'spend': '63f14623cb41be179b6ef957bb8659ee2a9f2854b327b3f859166bdc35f04771:0'}, {'address': 'bc1pjp6g8xeyqvzsj4yue585ca0rglc25jwehe9l9lgelpquqfle4gjqlszztp', 'value': 3626, 'output': 'f523e9007b5b6780a957065ef6198f583ba3f509a105210e3bfba3ed6b104d33:0', 'block_height': 842654, 'spend': '1205ef6f9bb9e7e0fa3b98f7fa00d411ba9c9fa8cd278334cffd70cea9331c3a:0'}, {'address': 'bc1pjp6g8xeyqvzsj4yue585ca0rglc25jwehe9l9lgelpquqfle4gjqlszztp', 'value': 3626, 'output': '537ad8b44dd2c5164c8debb14d15afa33290943bb3dbd5f806ae89ef3010a60d:0', 'block_height': 842654, 'spend': '483d5f7533788783168fa0373e3b77dbb74c4ac804775429e026f5d9f4b965ba:0'}, {'address': 'bc1pjp6g8xeyqvzsj4yue585ca0rglc25jwehe9l9lgelpquqfle4gjqlszztp', 'value': 4858, 'output': '42513d3725fefc531a5080117139fbd190cb299e309613c2f089d63c72f453be:0', 'block_height': 842561, 'spend': 'b0169ca4f9afaced81a04cbcddf248247eb340929ace5d0fb9aef4b71b77b694:0'}, {'address': 'bc1pjp6g8xeyqvzsj4yue585ca0rglc25jwehe9l9lgelpquqfle4gjqlszztp', 'value': 5012, 'output': '3fb5da50ed98e678fca0d3b089f40e1dce022e8522f2b288764d68cc552009f4:0', 'block_height': 842561, 'spend': '5514e322061f3ff58f325c84dc278537eaa4d1fc5759a619aa4e6e2bd24cc836:0'}, {'address': 'bc1pjp6g8xeyqvzsj4yue585ca0rglc25jwehe9l9lgelpquqfle4gjqlszztp', 'value': 5012, 'output': 'ea9ad6a509d4127550e9b45b59e1a751e0a5d040a0af2b58c7b4675ca85829ba:0', 'block_height': 842535, 'spend': '268f62372898c816e4d4f0daf654e4f95b8a8e484ab6d88be9f7b283f8f4401d:0'}, {'address': 'bc1pjp6g8xeyqvzsj4yue585ca0rglc25jwehe9l9lgelpquqfle4gjqlszztp', 'value': 3780, 'output': '3e44df813bd8fdff148433fb5cad38245d7a81919af0bc461a7b322c5fadfeff:0', 'block_height': 842425, 'spend': 'a14b8a2f7dd80e6706c02e06b7f2a0e33b40d768baeaeb3b81209e6959b4ea79:0'}, {'address': 'bc1pjp6g8xeyqvzsj4yue585ca0rglc25jwehe9l9lgelpquqfle4gjqlszztp', 'value': 6552, 'output': 'ce9553d221b2adbe7b5cfa655492438b7c1732d155ec6a5db5b259172d5cc7ec:0', 'block_height': 842191, 'spend': '4dd8f6c92fa986312d27f221d13f92f98d11b9865461cdcd9ecb3adfe549a7e1:0'}, {'address': 'bc1pjp6g8xeyqvzsj4yue585ca0rglc25jwehe9l9lgelpquqfle4gjqlszztp', 'value': 6552, 'output': 'b7c0d0a1cb75079e072847fce082087067227de990bb51c579e3243459f21883:0', 'block_height': 842191, 'spend': '968ab00643b9a33f43ee22ad1342dd096f0aca89e5834941643b0b6bbeeb9977:0'}, {'address': 'bc1pjp6g8xeyqvzsj4yue585ca0rglc25jwehe9l9lgelpquqfle4gjqlszztp', 'value': 6552, 'output': '7d6454f459298da2f7af9b55bd1df21867189e78bd72eb653b66e17d3bcdf95e:0', 'block_height': 842191, 'spend': '40e64d779cddcbe3c59421fa55dafd22b67ba1f5fcdf0e561acb622d0ce74103:0'}, {'address': 'bc1pjp6g8xeyqvzsj4yue585ca0rglc25jwehe9l9lgelpquqfle4gjqlszztp', 'value': 6860, 'output': '2b634e8158f834fd1fe29817914d2d5bf125301d40f95f4d6c5178b6310a8a98:0', 'block_height': 842042, 'spend': 'a70b052ed95b2d3bc8d7b69367af8357f7ef31e9c0499c52474f27ad596a9f5a:0'}, {'address': 'bc1pjp6g8xeyqvzsj4yue585ca0rglc25jwehe9l9lgelpquqfle4gjqlszztp', 'value': 6860, 'output': '4b85f02c18a04776a1edcf454ff87d7709a3b89e174b54c922f5dc430e86060c:0', 'block_height': 842042, 'spend': 'd09f09580cb22adcf32cbd240e6f520d291b6772ef485857b22b8e5fe1d44099:0'}, {'address': 'bc1pjp6g8xeyqvzsj4yue585ca0rglc25jwehe9l9lgelpquqfle4gjqlszztp', 'value': 3626, 'output': '8dc8d47334250c6730f5965691ca2727ef9442ee5cbd0b00c27b54cf8df9ce17:0', 'block_height': 841999, 'spend': '48991f54cf7d8b5747a0017eb50b84a5cf95bb82a4562cbd261945c03354fd5d:0'}, {'address': 'bc1pjp6g8xeyqvzsj4yue585ca0rglc25jwehe9l9lgelpquqfle4gjqlszztp', 'value': 5012, 'output': '120b081d721166f10b92f2b6a5a9a196b6841289deabc01d339c1e40b94d62c7:0', 'block_height': 841735, 'spend': '3a547803e8ecc1a7bc565ecae27d5b1a669df5ca6ca0c19e141c9e792a3da373:0'}, {'address': 'bc1pjp6g8xeyqvzsj4yue585ca0rglc25jwehe9l9lgelpquqfle4gjqlszztp', 'value': 5012, 'output': '64e20adbdf9ae2b690cf797b0dd7d36e3284e7212c9e77f8fecb4080a60beef4:0', 'block_height': 841348, 'spend': '37e89f76ed252eea134d475fc186920458c69d5f7588ea27897c0409106045ed:0'}, {'address': 'bc1pjp6g8xeyqvzsj4yue585ca0rglc25jwehe9l9lgelpquqfle4gjqlszztp', 'value': 5012, 'output': '630429da8ba9a1c32629b58a627fe137663f2dde36b3561ae521d3e90b8ab132:0', 'block_height': 841348, 'spend': 'cc38f0e6501ea1f47eea485985b10a9dd1849c944400e47252cfc174e9ce3e4e:0'}, {'address': 'bc1pjp6g8xeyqvzsj4yue585ca0rglc25jwehe9l9lgelpquqfle4gjqlszztp', 'value': 5012, 'output': '79f2e94938ccae9349b8529eefe90883e6e2764cfa3605a01075c1735804e921:0', 'block_height': 841348, 'spend': 'eb677b7ec112942153e180d743a5ce65a0731a498a7dcc8b3424d0e02f5174f6:0'}, {'address': 'bc1pjp6g8xeyqvzsj4yue585ca0rglc25jwehe9l9lgelpquqfle4gjqlszztp', 'value': 5012, 'output': '86cda14ddf9dab5ce7af84f53d5de95247b93fd3f5e0fbc0e3d53fed8e80fc0e:0', 'block_height': 841348, 'spend': '67621576c9cdb9765b7a3bd118b36347374040bbbf69c22b19e8837b5d6586e4:0'}, {'address': 'bc1pjp6g8xeyqvzsj4yue585ca0rglc25jwehe9l9lgelpquqfle4gjqlszztp', 'value': 5474, 'output': '639269d78f5196dbe03dc6ede980371867a83d22050ec7f6b86e5eebfacca752:0', 'block_height': 841254, 'spend': '50530e6c4d5634b05639a48ec523a4608a5ee372b87be6a4812aec196b599e8c:0'}, {'address': 'bc1pjp6g8xeyqvzsj4yue585ca0rglc25jwehe9l9lgelpquqfle4gjqlszztp', 'value': 5936, 'output': 'b24e15ad2283d364497bfb0beb61a80d378ea643a5fdf95e17a7d0711ddd7f5e:0', 'block_height': 841253, 'spend': '087882bb40408c78cb9cf552a24c9f0cc6c25ae53322399dd725559d1fd7b8aa:0'}]\n"
     ]
    }
   ],
   "source": [
    "valid_address = 'bc1pjp6g8xeyqvzsj4yue585ca0rglc25jwehe9l9lgelpquqfle4gjqlszztp'\n",
    "print(history(valid_address))"
   ]
  },
  {
   "cell_type": "code",
   "execution_count": 34,
   "id": "ab08b4a5",
   "metadata": {},
   "outputs": [
    {
     "name": "stdout",
     "output_type": "stream",
     "text": [
      "CEO Signature: Signature for CEO\n"
     ]
    }
   ],
   "source": [
    "# Demonstrating how stakeholders can prove their identities (without actual private keys)\n",
    "def prove_identity(stakeholder_name):\n",
    "    message = \"I am {}.\".format(stakeholder_name)\n",
    "    # In a real-world scenario, stakeholders would sign the message with their private keys\n",
    "    # For demonstration purposes, we'll simulate the signature generation\n",
    "    signature = \"Signature for {}\".format(stakeholder_name)\n",
    "    return signature\n",
    "\n",
    "# Example: CEO proving identity\n",
    "ceo_signature = prove_identity(\"CEO\")\n",
    "print(\"CEO Signature:\", ceo_signature)"
   ]
  },
  {
   "cell_type": "code",
   "execution_count": null,
   "id": "5456f6aa",
   "metadata": {},
   "outputs": [],
   "source": []
  }
 ],
 "metadata": {
  "kernelspec": {
   "display_name": "Python 3 (ipykernel)",
   "language": "python",
   "name": "python3"
  },
  "language_info": {
   "codemirror_mode": {
    "name": "ipython",
    "version": 3
   },
   "file_extension": ".py",
   "mimetype": "text/x-python",
   "name": "python",
   "nbconvert_exporter": "python",
   "pygments_lexer": "ipython3",
   "version": "3.11.5"
  }
 },
 "nbformat": 4,
 "nbformat_minor": 5
}
